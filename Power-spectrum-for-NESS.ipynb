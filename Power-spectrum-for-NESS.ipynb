{
 "cells": [
  {
   "cell_type": "markdown",
   "metadata": {},
   "source": [
    "# NESS Short Course (Spectrum)\n",
    "## Introduction to the analysis of neural electrophysiology data\n",
    "### Saturday, June 3, 2023\n",
    "---"
   ]
  },
  {
   "cell_type": "markdown",
   "metadata": {},
   "source": [
    "## Using Google Colab? **YES**\n",
    "If you're running this on **Google Colab**, then run these cells to load the data."
   ]
  },
  {
   "cell_type": "code",
   "execution_count": null,
   "metadata": {},
   "outputs": [],
   "source": [
    "!git clone https://github.com/Mark-Kramer/NESS-Short-Course-2023.git\n",
    "\n",
    "import sys\n",
    "sys.path.insert(0,'/content/NESS-Short-Course-2023')\n",
    "\n",
    "# Load modules we'll need.\n",
    "from   scipy.io import loadmat\n",
    "import matplotlib.pyplot as plt\n",
    "import numpy as np\n",
    "\n",
    "# Load the data.\n",
    "data = loadmat(\"/content/NESS-Short-Course-2023/NESS-Power-1.mat\");"
   ]
  },
  {
   "cell_type": "markdown",
   "metadata": {},
   "source": [
    "---\n",
    "## Using Google Colab? **NO**\n",
    "\n",
    "If you're **not** using Google Colab, then run these cells to load the data."
   ]
  },
  {
   "cell_type": "code",
   "execution_count": null,
   "metadata": {},
   "outputs": [],
   "source": [
    "# Load modules we'll need.\n",
    "from   scipy.io import loadmat\n",
    "import matplotlib.pyplot as plt\n",
    "import numpy as np\n",
    "\n",
    "# Load the data.\n",
    "data = loadmat('NESS-Power-1.mat')  # Load the EEG data"
   ]
  },
  {
   "cell_type": "markdown",
   "metadata": {},
   "source": [
    "***\n",
    "\n",
    "## Define variables and look at the data"
   ]
  },
  {
   "cell_type": "code",
   "execution_count": null,
   "metadata": {},
   "outputs": [],
   "source": [
    "EEG  = data['EEG'].reshape(-1)      # Extract the EEG variable\n",
    "t    = data['t'][0]                 # ... and the t variable.\n",
    "\n",
    "f = plt.figure(figsize=(12, 4), dpi=80)\n",
    "plt.plot(t,EEG)\n",
    "plt.xlabel('Time [s]')\n",
    "plt.ylabel('EEG');"
   ]
  },
  {
   "cell_type": "markdown",
   "metadata": {},
   "source": [
    "## Define useful quantities"
   ]
  },
  {
   "cell_type": "code",
   "execution_count": null,
   "metadata": {},
   "outputs": [],
   "source": [
    "#Q. What is the sampling interval (dt)?\n",
    "\n",
    "dt = ???\n",
    "print(dt)"
   ]
  },
  {
   "cell_type": "code",
   "execution_count": null,
   "metadata": {},
   "outputs": [],
   "source": [
    "#Q. What is the sampling frequency (f0)?\n",
    "\n",
    "f0 = ???\n",
    "print(f0)"
   ]
  },
  {
   "cell_type": "code",
   "execution_count": null,
   "metadata": {},
   "outputs": [],
   "source": [
    "#Q. What is the total time of the observation (T)?\n",
    "\n",
    "T = ???\n",
    "print(T)"
   ]
  },
  {
   "cell_type": "code",
   "execution_count": null,
   "metadata": {},
   "outputs": [],
   "source": [
    "# Q. What is the Nyquist frequency and frequency resolution?\n",
    "\n",
    "fNQ = ???\n",
    "df  = ???"
   ]
  },
  {
   "cell_type": "markdown",
   "metadata": {},
   "source": [
    "## Compute the spectrum"
   ]
  },
  {
   "cell_type": "code",
   "execution_count": null,
   "metadata": {},
   "outputs": [],
   "source": [
    "# Compute the power spectrum using the FFT function.\n",
    "x   = EEG\n",
    "xf  = np.fft.fft(x)                       # Compute Fourier transform of x\n",
    "Sxx = 2 * dt ** 2 / T * (xf * xf.conj())  # Compute spectrum\n",
    "Sxx = Sxx[0:int(np.size(EEG) / 2)].real   # Ignore negative frequencies (https://mark-kramer.github.io/Case-Studies-Python/03.html)\n",
    "\n",
    "# Define the frequency axis\n",
    "faxis = np.arange(0,fNQ,df)               # Construct frequency axis\n",
    "\n",
    "# Plot the spectrum versus frequency.\n",
    "f = plt.figure(figsize=(12, 4), dpi=80)\n",
    "plt.plot(faxis, Sxx)\n",
    "plt.xlim([0, 100])                        # Select frequency range\n",
    "plt.xlabel('Frequency [Hz]')              # Label the axes\n",
    "plt.ylabel('Power [$\\mu V^2$/Hz]');"
   ]
  },
  {
   "cell_type": "markdown",
   "metadata": {},
   "source": [
    "## Apply Hanning taper"
   ]
  },
  {
   "cell_type": "code",
   "execution_count": null,
   "metadata": {},
   "outputs": [],
   "source": [
    "# Apply the Hanning taper and look at the data.\n",
    "x_tapered  = np.hanning(np.size(x)) * x              # Apply the Hanning taper to the data.\n",
    "f = plt.figure(figsize=(12, 4), dpi=80)\n",
    "plt.plot(t,x)\n",
    "plt.plot(t,x_tapered);"
   ]
  },
  {
   "cell_type": "code",
   "execution_count": null,
   "metadata": {},
   "outputs": [],
   "source": [
    "# Apply the Hanning taper and look at the spectrum.\n",
    "\n",
    "xf_tapered  = np.fft.fft(x_tapered)              # Compute Fourier transform of x.\n",
    "Sxx_tapered = 2 * dt ** 2 / T * (xf_tapered * xf_tapered.conj())              # Compute the spectrum,\n",
    "Sxx_tapered = np.real(Sxx_tapered[:int(np.size(x) / 2)])  # ... and ignore negative frequencies.\n",
    "\n",
    "f = plt.figure(figsize=(12, 4), dpi=80)\n",
    "plt.plot(faxis,10*np.log10(Sxx))         # Plot spectrum of untapered signal.  \n",
    "plt.plot(faxis,10*np.log10(Sxx_tapered)) # Plot spectrum vs tapered signal.\n",
    "plt.xlim([faxis[1], 100])                    # Select frequency range,\n",
    "plt.ylim([-70, 20])                          # ... and the power range.\n",
    "plt.xlabel('Frequency [Hz]')                 # Label the axes\n",
    "plt.ylabel('Power [dB]');"
   ]
  },
  {
   "cell_type": "markdown",
   "metadata": {},
   "source": [
    "## Another example, that's a bit trickier ..."
   ]
  },
  {
   "cell_type": "code",
   "execution_count": null,
   "metadata": {},
   "outputs": [],
   "source": [
    "# Load the data.\n",
    "\n",
    "# Note: if you're running on Google Colab, then load the .mat file like this:\n",
    "# data = loadmat(\"/content/NESS-Short-Course-2023/NESS-Power-2.mat\");\n",
    "\n",
    "# Otherwise, use this code to load the mat file:\n",
    "data = loadmat('NESS-Power-2.mat')  # Load the EEG data\n",
    "\n",
    "EEG  = data['EEG'].reshape(-1)      # Extract the EEG variable\n",
    "t    = data['t'][0]                 # ... and the t variable\n",
    "\n",
    "# Look at it.\n",
    "f = plt.figure(figsize=(12, 4), dpi=80)\n",
    "plt.plot(t,EEG)\n",
    "plt.xlabel('Time [s]')\n",
    "plt.ylabel('EEG');"
   ]
  },
  {
   "cell_type": "markdown",
   "metadata": {},
   "source": [
    "### What is the spectrum?"
   ]
  },
  {
   "cell_type": "code",
   "execution_count": null,
   "metadata": {},
   "outputs": [],
   "source": [
    "..."
   ]
  }
 ],
 "metadata": {
  "kernelspec": {
   "display_name": "Python 3",
   "language": "python",
   "name": "python3"
  },
  "language_info": {
   "codemirror_mode": {
    "name": "ipython",
    "version": 3
   },
   "file_extension": ".py",
   "mimetype": "text/x-python",
   "name": "python",
   "nbconvert_exporter": "python",
   "pygments_lexer": "ipython3",
   "version": "3.8.8"
  }
 },
 "nbformat": 4,
 "nbformat_minor": 4
}
