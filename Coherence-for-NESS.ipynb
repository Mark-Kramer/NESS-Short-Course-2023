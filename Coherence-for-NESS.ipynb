{
 "cells": [
  {
   "cell_type": "markdown",
   "id": "ccbea34d-7faa-4edf-b3de-18a385461c06",
   "metadata": {},
   "source": [
    "# NESS Short Course (Coherence)\n",
    "## Introduction to the analysis of neural electrophysiology data\n",
    "### Saturday, June 3, 2023\n",
    "---"
   ]
  },
  {
   "cell_type": "markdown",
   "id": "bbf6e6d3-7a66-4ed8-8697-c70dc6cad2da",
   "metadata": {},
   "source": [
    "## Using Google Colab? **YES**\n",
    "If you're running this on **Google Colab**, then run these cells to load the data."
   ]
  },
  {
   "cell_type": "code",
   "execution_count": null,
   "id": "8c6d86de-f157-4685-9b9e-21177d2d8058",
   "metadata": {},
   "outputs": [],
   "source": [
    "!git clone https://github.com/Mark-Kramer/NESS-Short-Course-2023.git\n",
    "\n",
    "import sys\n",
    "sys.path.insert(0,'/content/NESS-Short-Course-2023')\n",
    "\n",
    "# Load modules we'll need.\n",
    "from   scipy.io import loadmat\n",
    "import matplotlib.pyplot as plt\n",
    "import numpy as np\n",
    "\n",
    "# Load the data.\n",
    "data = loadmat(\"/content/NESS-Short-Course-2023/NESS-Coherence-1.mat\");"
   ]
  },
  {
   "cell_type": "markdown",
   "id": "676b1267-6ac7-44b6-aae4-4bfaedb333f5",
   "metadata": {},
   "source": [
    "---\n",
    "## Using Google Colab? **NO**\n",
    "\n",
    "If you're **not** using Google Colab, then run these cells to load the data."
   ]
  },
  {
   "cell_type": "code",
   "execution_count": null,
   "id": "a4a5430d-3cc6-4138-a8a3-43be285422ca",
   "metadata": {},
   "outputs": [],
   "source": [
    "# Load modules we'll need.\n",
    "from   scipy.io import loadmat\n",
    "import matplotlib.pyplot as plt\n",
    "import numpy as np\n",
    "\n",
    "# Load the data.\n",
    "data = loadmat('NESS-Coherence-1.mat')  # Load the data,"
   ]
  },
  {
   "cell_type": "markdown",
   "id": "55f81fdc-c7da-4589-a022-c1651e9e3f6e",
   "metadata": {},
   "source": [
    "---\n",
    "## Define useful variables and look at the data."
   ]
  },
  {
   "cell_type": "code",
   "execution_count": null,
   "id": "fdfa173f-9452-418c-b202-a67964c61011",
   "metadata": {},
   "outputs": [],
   "source": [
    "E1 = data['E1']               # ... from the first electrode,\n",
    "E2 = data['E2']               # ... and from the second electrode.\n",
    "t = data['t'][0]              # Load the time axis\n",
    "K = np.size(E1,0)             # Store number of trials.\n",
    "N = np.size(E1,1)             # Store number of observations.\n",
    "dt = t[1]-t[0]                # Store sampling interval.\n",
    "T = t[-1]                     # Store total time of the recording.\n",
    "\n",
    "f = plt.figure(figsize=(12, 4), dpi=80);\n",
    "plt.plot(t,E1[0,:])\n",
    "plt.plot(t,E2[0,:])\n",
    "plt.xlabel('Time [s]')\n",
    "plt.ylabel('EEG');"
   ]
  },
  {
   "cell_type": "markdown",
   "id": "202372da-c9bf-40bd-8ee7-38a834a21a6d",
   "metadata": {},
   "source": [
    "## Compute the trial-averaged (auto-)spectrum for each electrode."
   ]
  },
  {
   "cell_type": "code",
   "execution_count": null,
   "id": "9ce30d92-b486-40ed-a769-781de2e178b8",
   "metadata": {},
   "outputs": [],
   "source": [
    "# Compute the Fourier transform for each trial\n",
    "xf = np.array([np.fft.rfft(x - x.mean()) for x in E1])  # ... in E1\n",
    "yf = np.array([np.fft.rfft(y - y.mean()) for y in E2])  # ... and in E2\n",
    "\n",
    "# Compute the spectra\n",
    "Sxx = 2 * dt**2 / T * (xf * xf.conj()).mean(0)   # Spectrum of E1 trials, averaged across trials\n",
    "Syy = 2 * dt**2 / T * (yf * yf.conj()).mean(0)   # ... and E2 trials, averaged across trials\n",
    "Sxy = 2 * dt**2 / T * (xf * yf.conj()).mean(0)   # ... and the cross spectrum, averaged across trials\n",
    "\n",
    "f = np.fft.rfftfreq(N, dt)                       # Define the frequency axis\n",
    "\n",
    "fig = plt.figure(figsize=(12, 4), dpi=80)\n",
    "# Plot the average spectrum over trials in decibels vs frequency\n",
    "plt.plot(f, 10 * np.log10(Sxx.real), label='x trial-averaged spectrum')  \n",
    "plt.plot(f, 10 * np.log10(Syy.real), label='y trial-averaged spectrum')  \n",
    "\n",
    "plt.xlim([0, 50])                                # ... in select frequency range,\n",
    "plt.ylim([-50,0])                                # ... in select frequency range,\n",
    "plt.xlabel('Frequency [Hz]')                     # ... with axes labelled.\n",
    "plt.ylabel('Power [dB]')\n",
    "plt.title('Trial-averaged spectra')\n",
    "plt.legend();"
   ]
  },
  {
   "cell_type": "markdown",
   "id": "92b494a9-67eb-43d6-8b7c-09d6bd052871",
   "metadata": {},
   "source": [
    "## Compute the coherence between the two electrodes"
   ]
  },
  {
   "cell_type": "code",
   "execution_count": null,
   "id": "b36a1a71-12d1-43c9-80e0-41d89dc7adbb",
   "metadata": {},
   "outputs": [],
   "source": [
    "# Compute the coherence squared.\n",
    "cohr_squared = (Sxy * Sxy.conj()) / (Sxx * Syy)\n",
    "\n",
    "fig = plt.figure(figsize=(12, 4), dpi=80)\n",
    "plt.plot(f, cohr_squared.real)                   # Plot coherence vs frequency,\n",
    "plt.xlim([0, 50])                                # ... in a chosen frequency range,\n",
    "plt.ylim([0, 1])                                 # ... with y-axis scaled,\n",
    "plt.xlabel('Frequency [Hz]')                     # ... and with axes labeled.\n",
    "plt.ylabel('Coherence')\n",
    "plt.title('Coherence between two electrodes');"
   ]
  }
 ],
 "metadata": {
  "kernelspec": {
   "display_name": "Python 3",
   "language": "python",
   "name": "python3"
  },
  "language_info": {
   "codemirror_mode": {
    "name": "ipython",
    "version": 3
   },
   "file_extension": ".py",
   "mimetype": "text/x-python",
   "name": "python",
   "nbconvert_exporter": "python",
   "pygments_lexer": "ipython3",
   "version": "3.8.8"
  }
 },
 "nbformat": 4,
 "nbformat_minor": 5
}
